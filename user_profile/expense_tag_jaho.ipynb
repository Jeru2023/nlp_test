{
 "cells": [
  {
   "cell_type": "code",
   "id": "initial_id",
   "metadata": {
    "collapsed": true
   },
   "source": [
    "import warnings\n",
    "from user_profile.profile_service import *\n",
    "\n",
    "warnings.filterwarnings('ignore')\n",
    "\n",
    "INPUT_FILE = 'data/xhs-T1-40W.csv'\n",
    "CONFIG_FILE = 'config/config.yaml'\n",
    "DOMAIN = 'EXPENSE'"
   ],
   "outputs": [],
   "execution_count": null
  },
  {
   "metadata": {},
   "cell_type": "code",
   "source": [
    "# load config\n",
    "config = load_config(CONFIG_FILE)\n",
    "\n",
    "global_nickname_blacklist = get_global_nickname_blacklist(config)\n",
    "domain_nickname_blacklist = get_domain_nicknames_blacklist(config, domain=DOMAIN)\n",
    "\n",
    "domain_content_whitelist = get_content_whitelist(config, domain=DOMAIN)\n",
    "domain_content_blacklist = get_content_blacklist(config, domain=DOMAIN)"
   ],
   "id": "2503e96f2bee272d",
   "outputs": [],
   "execution_count": null
  },
  {
   "metadata": {},
   "cell_type": "code",
   "source": [
    "# load data then remove global biz user\n",
    "df = load_data(INPUT_FILE)\n",
    "df = remove_biz_user(df, global_nickname_blacklist)\n",
    "df = remove_biz_user(df, domain_nickname_blacklist)\n",
    "len(df)"
   ],
   "id": "fd0772e37dd8e5f8",
   "outputs": [],
   "execution_count": null
  },
  {
   "metadata": {},
   "cell_type": "code",
   "source": [
    "df_filtered = filter_by_score(\n",
    "    df, domain_content_whitelist, domain_content_blacklist,\n",
    ")\n",
    "df_filtered"
   ],
   "id": "d6a42995ec7b89df",
   "outputs": [],
   "execution_count": null
  },
  {
   "cell_type": "code",
   "execution_count": null,
   "outputs": [],
   "source": [
    "\n",
    "df_user = group_by_user_v2(df_filtered)\n",
    "print(f'expense - #posts:{len(df_filtered)}, #users: {len(df_user)}')\n",
    "df_user"
   ],
   "metadata": {
    "collapsed": false
   }
  }
 ],
 "metadata": {
  "kernelspec": {
   "display_name": "Python 3",
   "language": "python",
   "name": "python3"
  },
  "language_info": {
   "codemirror_mode": {
    "name": "ipython",
    "version": 2
   },
   "file_extension": ".py",
   "mimetype": "text/x-python",
   "name": "python",
   "nbconvert_exporter": "python",
   "pygments_lexer": "ipython2",
   "version": "2.7.6"
  }
 },
 "nbformat": 4,
 "nbformat_minor": 5
}
