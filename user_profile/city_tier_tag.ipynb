{
 "cells": [
  {
   "cell_type": "code",
   "id": "initial_id",
   "metadata": {
    "collapsed": true,
    "ExecuteTime": {
     "end_time": "2024-07-29T09:03:23.873341Z",
     "start_time": "2024-07-29T09:03:07.537530Z"
    }
   },
   "source": [
    "import sys\n",
    "import warnings\n",
    "import pandas as pd\n",
    "\n",
    "sys.path.append('..')\n",
    "from pytextclassifier import BertClassifier\n",
    "\n",
    "from loguru import logger\n",
    "\n",
    "# 移除 debug 日志\n",
    "logger.remove()\n",
    "logger.add(sys.stderr, level=\"WARNING\")"
   ],
   "outputs": [
    {
     "ename": "ModuleNotFoundError",
     "evalue": "No module named 'torch'",
     "output_type": "error",
     "traceback": [
      "\u001B[0;31m---------------------------------------------------------------------------\u001B[0m",
      "\u001B[0;31mModuleNotFoundError\u001B[0m                       Traceback (most recent call last)",
      "Cell \u001B[0;32mIn[1], line 6\u001B[0m\n\u001B[1;32m      3\u001B[0m \u001B[38;5;28;01mimport\u001B[39;00m \u001B[38;5;21;01mpandas\u001B[39;00m \u001B[38;5;28;01mas\u001B[39;00m \u001B[38;5;21;01mpd\u001B[39;00m\n\u001B[1;32m      5\u001B[0m sys\u001B[38;5;241m.\u001B[39mpath\u001B[38;5;241m.\u001B[39mappend(\u001B[38;5;124m'\u001B[39m\u001B[38;5;124m..\u001B[39m\u001B[38;5;124m'\u001B[39m)\n\u001B[0;32m----> 6\u001B[0m \u001B[38;5;28;01mfrom\u001B[39;00m \u001B[38;5;21;01mpytextclassifier\u001B[39;00m \u001B[38;5;28;01mimport\u001B[39;00m BertClassifier\n\u001B[1;32m      8\u001B[0m \u001B[38;5;28;01mfrom\u001B[39;00m \u001B[38;5;21;01mloguru\u001B[39;00m \u001B[38;5;28;01mimport\u001B[39;00m logger\n\u001B[1;32m     10\u001B[0m \u001B[38;5;66;03m# 移除 debug 日志\u001B[39;00m\n",
      "File \u001B[0;32m~/code/nlp_test/venv/lib/python3.9/site-packages/pytextclassifier/__init__.py:9\u001B[0m\n\u001B[1;32m      6\u001B[0m __version__ \u001B[38;5;241m=\u001B[39m \u001B[38;5;124m'\u001B[39m\u001B[38;5;124m1.3.9\u001B[39m\u001B[38;5;124m'\u001B[39m\n\u001B[1;32m      8\u001B[0m \u001B[38;5;28;01mfrom\u001B[39;00m \u001B[38;5;21;01mpytextclassifier\u001B[39;00m\u001B[38;5;21;01m.\u001B[39;00m\u001B[38;5;21;01mclassic_classifier\u001B[39;00m \u001B[38;5;28;01mimport\u001B[39;00m ClassicClassifier\n\u001B[0;32m----> 9\u001B[0m \u001B[38;5;28;01mfrom\u001B[39;00m \u001B[38;5;21;01mpytextclassifier\u001B[39;00m\u001B[38;5;21;01m.\u001B[39;00m\u001B[38;5;21;01mfasttext_classifier\u001B[39;00m \u001B[38;5;28;01mimport\u001B[39;00m FastTextClassifier\n\u001B[1;32m     10\u001B[0m \u001B[38;5;28;01mfrom\u001B[39;00m \u001B[38;5;21;01mpytextclassifier\u001B[39;00m\u001B[38;5;21;01m.\u001B[39;00m\u001B[38;5;21;01mtextcnn_classifier\u001B[39;00m \u001B[38;5;28;01mimport\u001B[39;00m TextCNNClassifier\n\u001B[1;32m     11\u001B[0m \u001B[38;5;28;01mfrom\u001B[39;00m \u001B[38;5;21;01mpytextclassifier\u001B[39;00m\u001B[38;5;21;01m.\u001B[39;00m\u001B[38;5;21;01mtextrnn_classifier\u001B[39;00m \u001B[38;5;28;01mimport\u001B[39;00m TextRNNClassifier\n",
      "File \u001B[0;32m~/code/nlp_test/venv/lib/python3.9/site-packages/pytextclassifier/fasttext_classifier.py:13\u001B[0m\n\u001B[1;32m     10\u001B[0m \u001B[38;5;28;01mimport\u001B[39;00m \u001B[38;5;21;01mtime\u001B[39;00m\n\u001B[1;32m     12\u001B[0m \u001B[38;5;28;01mimport\u001B[39;00m \u001B[38;5;21;01mnumpy\u001B[39;00m \u001B[38;5;28;01mas\u001B[39;00m \u001B[38;5;21;01mnp\u001B[39;00m\n\u001B[0;32m---> 13\u001B[0m \u001B[38;5;28;01mimport\u001B[39;00m \u001B[38;5;21;01mtorch\u001B[39;00m\n\u001B[1;32m     14\u001B[0m \u001B[38;5;28;01mimport\u001B[39;00m \u001B[38;5;21;01mtorch\u001B[39;00m\u001B[38;5;21;01m.\u001B[39;00m\u001B[38;5;21;01mnn\u001B[39;00m \u001B[38;5;28;01mas\u001B[39;00m \u001B[38;5;21;01mnn\u001B[39;00m\n\u001B[1;32m     15\u001B[0m \u001B[38;5;28;01mimport\u001B[39;00m \u001B[38;5;21;01mtorch\u001B[39;00m\u001B[38;5;21;01m.\u001B[39;00m\u001B[38;5;21;01mnn\u001B[39;00m\u001B[38;5;21;01m.\u001B[39;00m\u001B[38;5;21;01mfunctional\u001B[39;00m \u001B[38;5;28;01mas\u001B[39;00m \u001B[38;5;21;01mF\u001B[39;00m\n",
      "\u001B[0;31mModuleNotFoundError\u001B[0m: No module named 'torch'"
     ]
    }
   ],
   "execution_count": 1
  },
  {
   "metadata": {},
   "cell_type": "code",
   "outputs": [],
   "execution_count": null,
   "source": [
    "num_epochs = 2\n",
    "lr = 3e-5\n",
    "max_seq_length = 512\n",
    "\n",
    "input_model_name = 'models/bert-base-chinese'\n",
    "model_name = f'models/train_5w_all_data0723_ip_name_{num_epochs}epoch_seq{max_seq_length}_{lr}'\n",
    "\n",
    "model_name\n",
    "m = BertClassifier(output_dir=model_name, num_classes=3,\n",
    "                   model_type='bert', model_name='models/bert-base-chinese')\n",
    "\n",
    "m.load_model()"
   ],
   "id": "e2539b9b5d3db447"
  },
  {
   "cell_type": "code",
   "execution_count": null,
   "outputs": [],
   "source": [
    "eval_df = pd.read_csv('./data/val_2w_all_data0723_without_ip.csv')\n",
    "eval_df = eval_df[eval_df['final_text'].notnull()]\n",
    "len(eval_df)"
   ],
   "metadata": {
    "collapsed": false
   },
   "id": "d07981e135944ff7"
  },
  {
   "cell_type": "code",
   "execution_count": null,
   "outputs": [],
   "source": [
    "eval_df['predict'] = eval_df['final_text'].apply(lambda x: m.predict([x]))\n",
    "\n",
    "eval_df.to_csv('data/city_level_bert_eval_2w_noip.csv')"
   ],
   "metadata": {
    "collapsed": false
   },
   "id": "a3d375250566a086"
  },
  {
   "cell_type": "code",
   "execution_count": 7,
   "outputs": [],
   "source": [
    "\n",
    "df = pd.read_csv('data/city_level_bert_eval_2w_noip.csv')"
   ],
   "metadata": {
    "collapsed": false,
    "ExecuteTime": {
     "end_time": "2024-07-29T06:09:15.614439Z",
     "start_time": "2024-07-29T06:09:14.306222Z"
    }
   },
   "id": "695d657ca1d23b54"
  },
  {
   "cell_type": "code",
   "execution_count": 8,
   "outputs": [],
   "source": [
    "def calculate(df, prob):\n",
    "    # df_sa.fillna('', inplace=True)\n",
    "    df['label'] = df['predict'].apply(lambda x: eval(x)[0][0])\n",
    "    df['prob'] = df['predict'].apply(lambda x: eval(x)[1][0])\n",
    "    df['same'] = df.apply(lambda x: x['label'] == x['cityLevelTag'], axis=1)\n",
    "\n",
    "    df['prob'] = df['prob'].astype(float)\n",
    "    filtered_df = df[df['prob'] > prob]\n",
    "\n",
    "    print(f'Probability thredshold set to {prob}, filtered {len(filtered_df)} rows out of {len(df)} rows!')\n",
    "\n",
    "    return filtered_df\n",
    "\n",
    "\n",
    "def evaluate(df):\n",
    "    # 计算 False 的数量\n",
    "    true_count = df['same'].value_counts()[True]\n",
    "\n",
    "    # 计算总数\n",
    "    total_count = len(df)\n",
    "\n",
    "    # 计算 True 的占比\n",
    "    percentage = (true_count / total_count) * 100\n",
    "    print(f'### Prediction accuracy: {percentage.round(2)}%')"
   ],
   "metadata": {
    "collapsed": false,
    "ExecuteTime": {
     "end_time": "2024-07-29T06:09:16.442638Z",
     "start_time": "2024-07-29T06:09:16.436722Z"
    }
   },
   "id": "b5e7223c2c1c2dc8"
  },
  {
   "cell_type": "code",
   "execution_count": 9,
   "outputs": [
    {
     "name": "stdout",
     "output_type": "stream",
     "text": [
      "Probability thredshold set to 0.6, filtered 7036 rows out of 21000 rows!\n",
      "### Prediction accuracy: 80.14%\n"
     ]
    }
   ],
   "source": [
    "eval_df = calculate(df, 0.6)\n",
    "evaluate(eval_df)"
   ],
   "metadata": {
    "collapsed": false,
    "ExecuteTime": {
     "end_time": "2024-07-29T06:09:18.047359Z",
     "start_time": "2024-07-29T06:09:17.721725Z"
    }
   },
   "id": "64109e0330c6794e"
  },
  {
   "cell_type": "code",
   "execution_count": 10,
   "outputs": [
    {
     "name": "stdout",
     "output_type": "stream",
     "text": [
      "Probability thredshold set to 0.92, filtered 2492 rows out of 21000 rows!\n",
      "### Prediction accuracy: 95.39%\n"
     ]
    }
   ],
   "source": [
    "eval_df = calculate(df, 0.92)\n",
    "evaluate(eval_df)"
   ],
   "metadata": {
    "collapsed": false,
    "ExecuteTime": {
     "end_time": "2024-07-29T06:09:22.057705Z",
     "start_time": "2024-07-29T06:09:21.686263Z"
    }
   },
   "id": "7f2b6ea1d5f64bac"
  },
  {
   "cell_type": "code",
   "execution_count": null,
   "outputs": [],
   "source": [],
   "metadata": {
    "collapsed": false
   },
   "id": "446cd1ec3af7921d"
  }
 ],
 "metadata": {
  "kernelspec": {
   "display_name": "Python 3",
   "language": "python",
   "name": "python3"
  },
  "language_info": {
   "codemirror_mode": {
    "name": "ipython",
    "version": 2
   },
   "file_extension": ".py",
   "mimetype": "text/x-python",
   "name": "python",
   "nbconvert_exporter": "python",
   "pygments_lexer": "ipython2",
   "version": "2.7.6"
  }
 },
 "nbformat": 4,
 "nbformat_minor": 5
}
