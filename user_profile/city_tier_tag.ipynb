{
 "cells": [
  {
   "cell_type": "code",
   "id": "initial_id",
   "metadata": {
    "collapsed": true
   },
   "source": [
    "import sys\n",
    "import warnings\n",
    "import pandas as pd\n",
    "\n",
    "sys.path.append('..')\n",
    "from pytextclassifier import BertClassifier\n",
    "\n",
    "from loguru import logger\n",
    "\n",
    "# 移除 debug 日志\n",
    "logger.remove()\n",
    "logger.add(sys.stderr, level=\"WARNING\")"
   ],
   "outputs": [],
   "execution_count": null
  },
  {
   "metadata": {},
   "cell_type": "code",
   "outputs": [],
   "execution_count": null,
   "source": [
    "num_epochs = 2\n",
    "lr = 3e-5\n",
    "max_seq_length = 512\n",
    "\n",
    "input_model_name = 'models/bert-base-chinese'\n",
    "model_name = f'models/train_5w_all_data0723_ip_name_{num_epochs}epoch_seq{max_seq_length}_{lr}'\n",
    "\n",
    "model_name\n",
    "m = BertClassifier(output_dir=model_name, num_classes=3,\n",
    "                   model_type='bert', model_name='models/bert-base-chinese')\n",
    "\n",
    "m.load_model()"
   ],
   "id": "e2539b9b5d3db447"
  },
  {
   "cell_type": "code",
   "execution_count": null,
   "outputs": [],
   "source": [
    "eval_df = pd.read_csv('./data/val_2w_all_data0723_without_ip.csv')\n",
    "eval_df = eval_df[eval_df['final_text'].notnull()]\n",
    "len(eval_df)"
   ],
   "metadata": {
    "collapsed": false
   }
  },
  {
   "cell_type": "code",
   "execution_count": null,
   "outputs": [],
   "source": [
    "eval_df['predict'] = eval_df['final_text'].apply(lambda x: m.predict([x]))\n",
    "\n",
    "eval_df.to_csv('data/city_level_bert_eval_2w_noip.csv')"
   ],
   "metadata": {
    "collapsed": false
   }
  },
  {
   "cell_type": "code",
   "execution_count": 7,
   "outputs": [],
   "source": [
    "\n",
    "df = pd.read_csv('data/city_level_bert_eval_2w_noip.csv')"
   ],
   "metadata": {
    "collapsed": false,
    "ExecuteTime": {
     "end_time": "2024-07-29T06:09:15.614439Z",
     "start_time": "2024-07-29T06:09:14.306222Z"
    }
   }
  },
  {
   "cell_type": "code",
   "execution_count": 8,
   "outputs": [],
   "source": [
    "def calculate(df, prob):\n",
    "    # df_sa.fillna('', inplace=True)\n",
    "    df['label'] = df['predict'].apply(lambda x: eval(x)[0][0])\n",
    "    df['prob'] = df['predict'].apply(lambda x: eval(x)[1][0])\n",
    "    df['same'] = df.apply(lambda x: x['label'] == x['cityLevelTag'], axis=1)\n",
    "\n",
    "    df['prob'] = df['prob'].astype(float)\n",
    "    filtered_df = df[df['prob'] > prob]\n",
    "\n",
    "    print(f'Probability thredshold set to {prob}, filtered {len(filtered_df)} rows out of {len(df)} rows!')\n",
    "\n",
    "    return filtered_df\n",
    "\n",
    "\n",
    "def evaluate(df):\n",
    "    # 计算 False 的数量\n",
    "    true_count = df['same'].value_counts()[True]\n",
    "\n",
    "    # 计算总数\n",
    "    total_count = len(df)\n",
    "\n",
    "    # 计算 True 的占比\n",
    "    percentage = (true_count / total_count) * 100\n",
    "    print(f'### Prediction accuracy: {percentage.round(2)}%')"
   ],
   "metadata": {
    "collapsed": false,
    "ExecuteTime": {
     "end_time": "2024-07-29T06:09:16.442638Z",
     "start_time": "2024-07-29T06:09:16.436722Z"
    }
   }
  },
  {
   "cell_type": "code",
   "execution_count": 9,
   "outputs": [
    {
     "name": "stdout",
     "output_type": "stream",
     "text": [
      "Probability thredshold set to 0.6, filtered 7036 rows out of 21000 rows!\n",
      "### Prediction accuracy: 80.14%\n"
     ]
    }
   ],
   "source": [
    "eval_df = calculate(df, 0.6)\n",
    "evaluate(eval_df)"
   ],
   "metadata": {
    "collapsed": false,
    "ExecuteTime": {
     "end_time": "2024-07-29T06:09:18.047359Z",
     "start_time": "2024-07-29T06:09:17.721725Z"
    }
   }
  },
  {
   "cell_type": "code",
   "execution_count": 10,
   "outputs": [
    {
     "name": "stdout",
     "output_type": "stream",
     "text": [
      "Probability thredshold set to 0.92, filtered 2492 rows out of 21000 rows!\n",
      "### Prediction accuracy: 95.39%\n"
     ]
    }
   ],
   "source": [
    "eval_df = calculate(df, 0.92)\n",
    "evaluate(eval_df)"
   ],
   "metadata": {
    "collapsed": false,
    "ExecuteTime": {
     "end_time": "2024-07-29T06:09:22.057705Z",
     "start_time": "2024-07-29T06:09:21.686263Z"
    }
   }
  },
  {
   "cell_type": "code",
   "execution_count": null,
   "outputs": [],
   "source": [],
   "metadata": {
    "collapsed": false
   }
  }
 ],
 "metadata": {
  "kernelspec": {
   "display_name": "Python 3",
   "language": "python",
   "name": "python3"
  },
  "language_info": {
   "codemirror_mode": {
    "name": "ipython",
    "version": 2
   },
   "file_extension": ".py",
   "mimetype": "text/x-python",
   "name": "python",
   "nbconvert_exporter": "python",
   "pygments_lexer": "ipython2",
   "version": "2.7.6"
  }
 },
 "nbformat": 4,
 "nbformat_minor": 5
}
